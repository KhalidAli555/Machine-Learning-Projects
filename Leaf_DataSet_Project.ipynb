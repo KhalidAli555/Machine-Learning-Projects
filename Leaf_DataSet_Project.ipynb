{
  "nbformat": 4,
  "nbformat_minor": 0,
  "metadata": {
    "colab": {
      "provenance": []
    },
    "kernelspec": {
      "name": "python3",
      "display_name": "Python 3"
    },
    "language_info": {
      "name": "python"
    }
  },
  "cells": [
    {
      "cell_type": "markdown",
      "source": [
        "**Import Libraries**"
      ],
      "metadata": {
        "id": "zEucAT_26bXe"
      }
    },
    {
      "cell_type": "code",
      "execution_count": null,
      "metadata": {
        "id": "PtpUM6NX6Pp_"
      },
      "outputs": [],
      "source": [
        "import numpy as np\n",
        "import pandas as pd\n",
        "from sklearn.utils import shuffle\n",
        "from sklearn.model_selection import train_test_split\n",
        "from sklearn.model_selection import cross_val_score\n",
        "from sklearn.neighbors import KNeighborsClassifier\n",
        "from sklearn.naive_bayes import GaussianNB\n",
        "from sklearn.metrics import accuracy_score\n",
        "from sklearn.svm import SVC\n",
        "import matplotlib.pyplot as plt"
      ]
    },
    {
      "cell_type": "markdown",
      "source": [
        "**Import Leaf Data Set**"
      ],
      "metadata": {
        "id": "UL0aR7KX6ssV"
      }
    },
    {
      "cell_type": "code",
      "source": [
        "from google.colab import files\n",
        "uploaded = files.upload()"
      ],
      "metadata": {
        "colab": {
          "base_uri": "https://localhost:8080/",
          "height": 73
        },
        "id": "PxCO9Ji86wP_",
        "outputId": "c24a406b-f085-42f3-9172-c875ff8bd138"
      },
      "execution_count": null,
      "outputs": [
        {
          "output_type": "display_data",
          "data": {
            "text/plain": [
              "<IPython.core.display.HTML object>"
            ],
            "text/html": [
              "\n",
              "     <input type=\"file\" id=\"files-19a44501-deaf-4348-a907-298e8a37703b\" name=\"files[]\" multiple disabled\n",
              "        style=\"border:none\" />\n",
              "     <output id=\"result-19a44501-deaf-4348-a907-298e8a37703b\">\n",
              "      Upload widget is only available when the cell has been executed in the\n",
              "      current browser session. Please rerun this cell to enable.\n",
              "      </output>\n",
              "      <script>// Copyright 2017 Google LLC\n",
              "//\n",
              "// Licensed under the Apache License, Version 2.0 (the \"License\");\n",
              "// you may not use this file except in compliance with the License.\n",
              "// You may obtain a copy of the License at\n",
              "//\n",
              "//      http://www.apache.org/licenses/LICENSE-2.0\n",
              "//\n",
              "// Unless required by applicable law or agreed to in writing, software\n",
              "// distributed under the License is distributed on an \"AS IS\" BASIS,\n",
              "// WITHOUT WARRANTIES OR CONDITIONS OF ANY KIND, either express or implied.\n",
              "// See the License for the specific language governing permissions and\n",
              "// limitations under the License.\n",
              "\n",
              "/**\n",
              " * @fileoverview Helpers for google.colab Python module.\n",
              " */\n",
              "(function(scope) {\n",
              "function span(text, styleAttributes = {}) {\n",
              "  const element = document.createElement('span');\n",
              "  element.textContent = text;\n",
              "  for (const key of Object.keys(styleAttributes)) {\n",
              "    element.style[key] = styleAttributes[key];\n",
              "  }\n",
              "  return element;\n",
              "}\n",
              "\n",
              "// Max number of bytes which will be uploaded at a time.\n",
              "const MAX_PAYLOAD_SIZE = 100 * 1024;\n",
              "\n",
              "function _uploadFiles(inputId, outputId) {\n",
              "  const steps = uploadFilesStep(inputId, outputId);\n",
              "  const outputElement = document.getElementById(outputId);\n",
              "  // Cache steps on the outputElement to make it available for the next call\n",
              "  // to uploadFilesContinue from Python.\n",
              "  outputElement.steps = steps;\n",
              "\n",
              "  return _uploadFilesContinue(outputId);\n",
              "}\n",
              "\n",
              "// This is roughly an async generator (not supported in the browser yet),\n",
              "// where there are multiple asynchronous steps and the Python side is going\n",
              "// to poll for completion of each step.\n",
              "// This uses a Promise to block the python side on completion of each step,\n",
              "// then passes the result of the previous step as the input to the next step.\n",
              "function _uploadFilesContinue(outputId) {\n",
              "  const outputElement = document.getElementById(outputId);\n",
              "  const steps = outputElement.steps;\n",
              "\n",
              "  const next = steps.next(outputElement.lastPromiseValue);\n",
              "  return Promise.resolve(next.value.promise).then((value) => {\n",
              "    // Cache the last promise value to make it available to the next\n",
              "    // step of the generator.\n",
              "    outputElement.lastPromiseValue = value;\n",
              "    return next.value.response;\n",
              "  });\n",
              "}\n",
              "\n",
              "/**\n",
              " * Generator function which is called between each async step of the upload\n",
              " * process.\n",
              " * @param {string} inputId Element ID of the input file picker element.\n",
              " * @param {string} outputId Element ID of the output display.\n",
              " * @return {!Iterable<!Object>} Iterable of next steps.\n",
              " */\n",
              "function* uploadFilesStep(inputId, outputId) {\n",
              "  const inputElement = document.getElementById(inputId);\n",
              "  inputElement.disabled = false;\n",
              "\n",
              "  const outputElement = document.getElementById(outputId);\n",
              "  outputElement.innerHTML = '';\n",
              "\n",
              "  const pickedPromise = new Promise((resolve) => {\n",
              "    inputElement.addEventListener('change', (e) => {\n",
              "      resolve(e.target.files);\n",
              "    });\n",
              "  });\n",
              "\n",
              "  const cancel = document.createElement('button');\n",
              "  inputElement.parentElement.appendChild(cancel);\n",
              "  cancel.textContent = 'Cancel upload';\n",
              "  const cancelPromise = new Promise((resolve) => {\n",
              "    cancel.onclick = () => {\n",
              "      resolve(null);\n",
              "    };\n",
              "  });\n",
              "\n",
              "  // Wait for the user to pick the files.\n",
              "  const files = yield {\n",
              "    promise: Promise.race([pickedPromise, cancelPromise]),\n",
              "    response: {\n",
              "      action: 'starting',\n",
              "    }\n",
              "  };\n",
              "\n",
              "  cancel.remove();\n",
              "\n",
              "  // Disable the input element since further picks are not allowed.\n",
              "  inputElement.disabled = true;\n",
              "\n",
              "  if (!files) {\n",
              "    return {\n",
              "      response: {\n",
              "        action: 'complete',\n",
              "      }\n",
              "    };\n",
              "  }\n",
              "\n",
              "  for (const file of files) {\n",
              "    const li = document.createElement('li');\n",
              "    li.append(span(file.name, {fontWeight: 'bold'}));\n",
              "    li.append(span(\n",
              "        `(${file.type || 'n/a'}) - ${file.size} bytes, ` +\n",
              "        `last modified: ${\n",
              "            file.lastModifiedDate ? file.lastModifiedDate.toLocaleDateString() :\n",
              "                                    'n/a'} - `));\n",
              "    const percent = span('0% done');\n",
              "    li.appendChild(percent);\n",
              "\n",
              "    outputElement.appendChild(li);\n",
              "\n",
              "    const fileDataPromise = new Promise((resolve) => {\n",
              "      const reader = new FileReader();\n",
              "      reader.onload = (e) => {\n",
              "        resolve(e.target.result);\n",
              "      };\n",
              "      reader.readAsArrayBuffer(file);\n",
              "    });\n",
              "    // Wait for the data to be ready.\n",
              "    let fileData = yield {\n",
              "      promise: fileDataPromise,\n",
              "      response: {\n",
              "        action: 'continue',\n",
              "      }\n",
              "    };\n",
              "\n",
              "    // Use a chunked sending to avoid message size limits. See b/62115660.\n",
              "    let position = 0;\n",
              "    do {\n",
              "      const length = Math.min(fileData.byteLength - position, MAX_PAYLOAD_SIZE);\n",
              "      const chunk = new Uint8Array(fileData, position, length);\n",
              "      position += length;\n",
              "\n",
              "      const base64 = btoa(String.fromCharCode.apply(null, chunk));\n",
              "      yield {\n",
              "        response: {\n",
              "          action: 'append',\n",
              "          file: file.name,\n",
              "          data: base64,\n",
              "        },\n",
              "      };\n",
              "\n",
              "      let percentDone = fileData.byteLength === 0 ?\n",
              "          100 :\n",
              "          Math.round((position / fileData.byteLength) * 100);\n",
              "      percent.textContent = `${percentDone}% done`;\n",
              "\n",
              "    } while (position < fileData.byteLength);\n",
              "  }\n",
              "\n",
              "  // All done.\n",
              "  yield {\n",
              "    response: {\n",
              "      action: 'complete',\n",
              "    }\n",
              "  };\n",
              "}\n",
              "\n",
              "scope.google = scope.google || {};\n",
              "scope.google.colab = scope.google.colab || {};\n",
              "scope.google.colab._files = {\n",
              "  _uploadFiles,\n",
              "  _uploadFilesContinue,\n",
              "};\n",
              "})(self);\n",
              "</script> "
            ]
          },
          "metadata": {}
        },
        {
          "output_type": "stream",
          "name": "stdout",
          "text": [
            "Saving leaf.csv to leaf.csv\n"
          ]
        }
      ]
    },
    {
      "cell_type": "code",
      "source": [
        "# Load the uploaded 'leaf.csv' file into a DataFrame\n",
        "Leaf_data = pd.read_csv('leaf.csv')\n",
        "\n",
        "# Display a preview of the DataFrame\n",
        "print(Leaf_data)\n"
      ],
      "metadata": {
        "id": "hLRoBIt166uu",
        "colab": {
          "base_uri": "https://localhost:8080/"
        },
        "outputId": "00cf5892-f474-4f3f-9ccb-c1dda07b82d3"
      },
      "execution_count": null,
      "outputs": [
        {
          "output_type": "stream",
          "name": "stdout",
          "text": [
            "      1  1.1  0.72694  1.4742  0.32396  0.98535      1.2   0.83592  0.0046566  \\\n",
            "0     1    2  0.74173  1.5257  0.36116  0.98152  0.99825  0.798670   0.005242   \n",
            "1     1    3  0.76722  1.5725  0.38998  0.97755  1.00000  0.808120   0.007457   \n",
            "2     1    4  0.73797  1.4597  0.35376  0.97566  1.00000  0.816970   0.006877   \n",
            "3     1    5  0.82301  1.7707  0.44462  0.97698  1.00000  0.754930   0.007428   \n",
            "4     1    6  0.72997  1.4892  0.34284  0.98755  1.00000  0.844820   0.004945   \n",
            "..   ..  ...      ...     ...      ...      ...      ...       ...        ...   \n",
            "334  36    6  0.37522  1.1417  0.81725  0.68511  0.58772  0.125230   0.091860   \n",
            "335  36    7  0.28064  1.0849  0.75319  0.72152  0.71404  0.136860   0.078996   \n",
            "336  36    8  0.35344  1.0329  0.78147  0.70737  0.61579  0.135030   0.089763   \n",
            "337  36    9  0.59988  1.1427  0.71532  0.66101  0.47544  0.157470   0.113370   \n",
            "338  36   10  0.47195  1.0901  0.85409  0.53598  0.39649  0.078376   0.132270   \n",
            "\n",
            "     0.0039465   0.04779   0.12795  0.016108  0.0052323  0.00027477   1.1756  \n",
            "0     0.005002  0.024160  0.090476  0.008119   0.002708    0.000075  0.69659  \n",
            "1     0.010121  0.011897  0.057445  0.003289   0.000921    0.000038  0.44348  \n",
            "2     0.008607  0.015950  0.065491  0.004271   0.001154    0.000066  0.58785  \n",
            "3     0.010042  0.007938  0.045339  0.002051   0.000560    0.000024  0.34214  \n",
            "4     0.004451  0.010487  0.058528  0.003414   0.001125    0.000025  0.34068  \n",
            "..         ...       ...       ...       ...        ...         ...      ...  \n",
            "334   1.535800  0.114880  0.208610  0.041703   0.013344    0.000820  2.02810  \n",
            "335   1.135800  0.141220  0.218300  0.045488   0.012002    0.001515  2.40590  \n",
            "336   1.466400  0.097663  0.207030  0.041101   0.016123    0.000453  1.69350  \n",
            "337   2.339400  0.050389  0.135850  0.018121   0.006190    0.000265  1.15260  \n",
            "338   3.184000  0.082007  0.187820  0.034074   0.013487    0.000329  1.56230  \n",
            "\n",
            "[339 rows x 16 columns]\n"
          ]
        }
      ]
    },
    {
      "cell_type": "markdown",
      "source": [
        "**Assign Column Names To A Dataset**"
      ],
      "metadata": {
        "id": "x1v-v4e57fRa"
      }
    },
    {
      "cell_type": "code",
      "source": [
        "# Define column names based on your dataset structure\n",
        "column_names = [\n",
        "    'Species', 'Specimen Number', 'Eccentricity', 'Aspect Ratio', 'Elongation',\n",
        "    'Solidity', 'Stochastic Convexity', 'Isoperimetric Factor',\n",
        "    'Maximal Indentation Depth', 'Lobedness', 'Average Intensity',\n",
        "    'Average Contrast', 'Smoothness', 'Third moment', 'Uniformity','Entropy'\n",
        "]\n",
        "\n",
        "# Assign column names to the DataFrame\n",
        "Leaf_data.columns = column_names\n",
        "\n",
        "# Display the DataFrame with column names\n",
        "print(Leaf_data.head())\n"
      ],
      "metadata": {
        "colab": {
          "base_uri": "https://localhost:8080/"
        },
        "id": "qylBzl9p7itx",
        "outputId": "93eed927-0abd-4908-ccb9-56d33e2cae75"
      },
      "execution_count": null,
      "outputs": [
        {
          "output_type": "stream",
          "name": "stdout",
          "text": [
            "   Species  Specimen Number  Eccentricity  Aspect Ratio  Elongation  Solidity  \\\n",
            "0        1                2       0.74173        1.5257     0.36116   0.98152   \n",
            "1        1                3       0.76722        1.5725     0.38998   0.97755   \n",
            "2        1                4       0.73797        1.4597     0.35376   0.97566   \n",
            "3        1                5       0.82301        1.7707     0.44462   0.97698   \n",
            "4        1                6       0.72997        1.4892     0.34284   0.98755   \n",
            "\n",
            "   Stochastic Convexity  Isoperimetric Factor  Maximal Indentation Depth  \\\n",
            "0               0.99825               0.79867                   0.005242   \n",
            "1               1.00000               0.80812                   0.007457   \n",
            "2               1.00000               0.81697                   0.006877   \n",
            "3               1.00000               0.75493                   0.007428   \n",
            "4               1.00000               0.84482                   0.004945   \n",
            "\n",
            "   Lobedness  Average Intensity  Average Contrast  Smoothness  Third moment  \\\n",
            "0   0.005002           0.024160          0.090476    0.008119      0.002708   \n",
            "1   0.010121           0.011897          0.057445    0.003289      0.000921   \n",
            "2   0.008607           0.015950          0.065491    0.004271      0.001154   \n",
            "3   0.010042           0.007938          0.045339    0.002051      0.000560   \n",
            "4   0.004451           0.010487          0.058528    0.003414      0.001125   \n",
            "\n",
            "   Uniformity  Entropy  \n",
            "0    0.000075  0.69659  \n",
            "1    0.000038  0.44348  \n",
            "2    0.000066  0.58785  \n",
            "3    0.000024  0.34214  \n",
            "4    0.000025  0.34068  \n"
          ]
        }
      ]
    },
    {
      "cell_type": "code",
      "source": [
        "# print all columns in data set\n",
        "print(Leaf_data.columns)"
      ],
      "metadata": {
        "colab": {
          "base_uri": "https://localhost:8080/"
        },
        "id": "mgeTIB4s7AGV",
        "outputId": "2614a801-ab0d-4cf3-925c-4e1b446c3b1b"
      },
      "execution_count": null,
      "outputs": [
        {
          "output_type": "stream",
          "name": "stdout",
          "text": [
            "Index(['Species', 'Specimen Number', 'Eccentricity', 'Aspect Ratio',\n",
            "       'Elongation', 'Solidity', 'Stochastic Convexity',\n",
            "       'Isoperimetric Factor', 'Maximal Indentation Depth', 'Lobedness',\n",
            "       'Average Intensity', 'Average Contrast', 'Smoothness', 'Third moment',\n",
            "       'Uniformity', 'Entropy'],\n",
            "      dtype='object')\n"
          ]
        }
      ]
    },
    {
      "cell_type": "markdown",
      "source": [
        "***Slicing: To separate the target column from the features in a dataset***"
      ],
      "metadata": {
        "id": "VuB2pog075rJ"
      }
    },
    {
      "cell_type": "code",
      "source": [
        "X = Leaf_data.drop('Species', axis=1)  # Extracting features by dropping the target column\n",
        "y = Leaf_data['Species']  # Extracting the target column\n",
        "X\n",
        "y"
      ],
      "metadata": {
        "id": "rBY2w2Ph8Ckv",
        "colab": {
          "base_uri": "https://localhost:8080/"
        },
        "outputId": "361c548a-325d-4118-89c3-3a94d85088e0"
      },
      "execution_count": null,
      "outputs": [
        {
          "output_type": "execute_result",
          "data": {
            "text/plain": [
              "0       1\n",
              "1       1\n",
              "2       1\n",
              "3       1\n",
              "4       1\n",
              "       ..\n",
              "334    36\n",
              "335    36\n",
              "336    36\n",
              "337    36\n",
              "338    36\n",
              "Name: Species, Length: 339, dtype: int64"
            ]
          },
          "metadata": {},
          "execution_count": 6
        }
      ]
    },
    {
      "cell_type": "markdown",
      "source": [
        "***Shuffling***"
      ],
      "metadata": {
        "id": "kD82Ywx68J5j"
      }
    },
    {
      "cell_type": "code",
      "source": [
        "X, y = shuffle(X, y, random_state=42)\n",
        "X\n",
        "y"
      ],
      "metadata": {
        "id": "bmPw4kok8Rfh",
        "colab": {
          "base_uri": "https://localhost:8080/"
        },
        "outputId": "6081d25d-f534-4211-a544-9be8569672ed"
      },
      "execution_count": null,
      "outputs": [
        {
          "output_type": "execute_result",
          "data": {
            "text/plain": [
              "284    31\n",
              "116    11\n",
              "113    11\n",
              "42      5\n",
              "126    12\n",
              "       ..\n",
              "188    23\n",
              "71      8\n",
              "106    10\n",
              "270    30\n",
              "102    10\n",
              "Name: Species, Length: 339, dtype: int64"
            ]
          },
          "metadata": {},
          "execution_count": 7
        }
      ]
    },
    {
      "cell_type": "markdown",
      "source": [
        "**Split Data Into Training And Testing sets**"
      ],
      "metadata": {
        "id": "hYXWPwUm8p6H"
      }
    },
    {
      "cell_type": "code",
      "source": [
        "X_train, X_test, y_train, y_test = train_test_split(X, y, test_size=0.2,random_state=42)\n",
        "\n",
        "# Assuming X_train, X_test, Y_train, Y_test are NumPy arrays\n",
        "print(\"X_train shape:\", X_train.shape)  # Number of rows and columns in X_train\n",
        "print(\"X_test shape:\", X_test.shape)    # Number of rows and columns in X_test\n",
        "print(\"y_train shape:\", y_train.shape)  # Number of rows in Y_train\n",
        "print(\"y_test shape:\", y_test.shape)    # Number of rows in Y_test"
      ],
      "metadata": {
        "colab": {
          "base_uri": "https://localhost:8080/"
        },
        "id": "ZJA2oavZ8y9A",
        "outputId": "5513d02f-bdd4-47c9-fe4b-b961a96fc05d"
      },
      "execution_count": null,
      "outputs": [
        {
          "output_type": "stream",
          "name": "stdout",
          "text": [
            "X_train shape: (271, 15)\n",
            "X_test shape: (68, 15)\n",
            "y_train shape: (271,)\n",
            "y_test shape: (68,)\n"
          ]
        }
      ]
    },
    {
      "cell_type": "markdown",
      "source": [
        "**Now Apply KNN**"
      ],
      "metadata": {
        "id": "tc4eXrME85ij"
      }
    },
    {
      "cell_type": "code",
      "source": [
        "# Initialize the KNN classifier\n",
        "knn = KNeighborsClassifier(n_neighbors=5)  # Using 5 neighbors\n",
        "\n",
        "# Perform cross-validation\n",
        "knn_scores = cross_val_score(knn, X, y, cv=5)  # cv=5 specifies 5-fold cross-validation\n",
        "\n",
        "# Print the cross-validation Accuracy\n",
        "print(\"Cross-validation Accuracy:\", knn_scores*100)\n",
        "\n",
        "print(\"Mean accuracy:\", knn_scores.mean()*100)  # Mean accuracy across all folds"
      ],
      "metadata": {
        "colab": {
          "base_uri": "https://localhost:8080/"
        },
        "id": "cC70y-ys8-eK",
        "outputId": "a8156bbe-c24b-48f2-c3a0-8230a3342261"
      },
      "execution_count": null,
      "outputs": [
        {
          "output_type": "stream",
          "name": "stdout",
          "text": [
            "Cross-validation Accuracy: [13.23529412 13.23529412 13.23529412 16.17647059 19.40298507]\n",
            "Mean accuracy: 15.057067603160668\n"
          ]
        }
      ]
    },
    {
      "cell_type": "markdown",
      "source": [
        "**Training Accuracy For KNN**"
      ],
      "metadata": {
        "id": "RNdgoAIBaa6d"
      }
    },
    {
      "cell_type": "code",
      "source": [
        "from sklearn.neighbors import KNeighborsClassifier\n",
        "from sklearn.model_selection import train_test_split\n",
        "\n",
        "# Assuming X and y are your feature matrix and target variable\n",
        "\n",
        "# Initialize KNN classifier with 5 neighbors\n",
        "knn = KNeighborsClassifier(n_neighbors=5)\n",
        "\n",
        "# Fit the model on the entire dataset\n",
        "knn.fit(X, y)\n",
        "\n",
        "# Calculate training accuracy\n",
        "training_accuracy = knn.score(X, y) * 100\n",
        "print(\"Training Accuracy:\", training_accuracy)\n"
      ],
      "metadata": {
        "colab": {
          "base_uri": "https://localhost:8080/"
        },
        "id": "xLpwfHEKZB1R",
        "outputId": "7a256c2c-e0a5-4622-b041-3e7d92e9fce0"
      },
      "execution_count": null,
      "outputs": [
        {
          "output_type": "stream",
          "name": "stdout",
          "text": [
            "Training Accuracy: 36.283185840707965\n"
          ]
        }
      ]
    },
    {
      "cell_type": "markdown",
      "source": [
        "***Naive Bayes***"
      ],
      "metadata": {
        "id": "XRl14s2j917n"
      }
    },
    {
      "cell_type": "code",
      "source": [
        "# Initialize the Gaussian Naive Bayes classifier\n",
        "nb = GaussianNB()\n",
        "\n",
        "# Perform cross-validation\n",
        "nb_scores = cross_val_score(nb, X, y, cv=5)  # cv=5 specifies 5-fold cross-validation\n",
        "\n",
        "# Print the cross-validation scores\n",
        "print(\"Cross-validation scores:\", nb_scores*100)\n",
        "print(\"Mean accuracy:\", nb_scores.mean()*100)  # Mean accuracy across all folds"
      ],
      "metadata": {
        "colab": {
          "base_uri": "https://localhost:8080/"
        },
        "id": "H6ARq3Rb96za",
        "outputId": "cfa4e283-2a17-4147-c3e7-503d5c477630"
      },
      "execution_count": null,
      "outputs": [
        {
          "output_type": "stream",
          "name": "stdout",
          "text": [
            "Cross-validation scores: [70.58823529 72.05882353 70.58823529 73.52941176 70.14925373]\n",
            "Mean accuracy: 71.38279192273924\n"
          ]
        }
      ]
    },
    {
      "cell_type": "markdown",
      "source": [
        "**Training Accuracy For Naive Bayes**"
      ],
      "metadata": {
        "id": "0J36TANJaQdH"
      }
    },
    {
      "cell_type": "code",
      "source": [
        "from sklearn.naive_bayes import GaussianNB\n",
        "from sklearn.model_selection import train_test_split\n",
        "\n",
        "# Assuming X and y are your feature matrix and target variable\n",
        "\n",
        "# Initialize Gaussian Naive Bayes classifier\n",
        "nb = GaussianNB()\n",
        "\n",
        "# Fit the model on the entire dataset\n",
        "nb.fit(X, y)\n",
        "\n",
        "# Calculate training accuracy\n",
        "training_accuracy = nb.score(X, y) * 100\n",
        "print(\"Training Accuracy:\", training_accuracy)\n"
      ],
      "metadata": {
        "colab": {
          "base_uri": "https://localhost:8080/"
        },
        "id": "5EtNFPfzZwR_",
        "outputId": "5f9ad910-302f-40ab-c6d1-c44475cce2d0"
      },
      "execution_count": null,
      "outputs": [
        {
          "output_type": "stream",
          "name": "stdout",
          "text": [
            "Training Accuracy: 84.36578171091446\n"
          ]
        }
      ]
    },
    {
      "cell_type": "markdown",
      "source": [
        "***Support Vector Machine ( SVM )***"
      ],
      "metadata": {
        "id": "JGUeKezj-P2l"
      }
    },
    {
      "cell_type": "code",
      "source": [
        "# Initialize the SVM classifier\n",
        "svm = SVC(kernel='linear')\n",
        "# Perform cross-validation (e.g., 5-fold cross-validation)\n",
        "svm_scores = cross_val_score(svm, X, y, cv=5)\n",
        "\n",
        "# Print the cross-validation scores\n",
        "print(\"Cross-validation scores:\", svm_scores*100)\n",
        "print(\"Mean accuracy:\", svm_scores.mean()*100)  # Mean accuracy across all folds"
      ],
      "metadata": {
        "colab": {
          "base_uri": "https://localhost:8080/"
        },
        "id": "ZpToHz5D-Vjq",
        "outputId": "774b3ecc-92d1-46cf-90de-7cd0a7774987"
      },
      "execution_count": null,
      "outputs": [
        {
          "output_type": "stream",
          "name": "stdout",
          "text": [
            "Cross-validation scores: [52.94117647 42.64705882 54.41176471 52.94117647 40.29850746]\n",
            "Mean accuracy: 48.64793678665496\n"
          ]
        }
      ]
    },
    {
      "cell_type": "markdown",
      "source": [
        "**Training Accuracy for Svm**"
      ],
      "metadata": {
        "id": "OLOwntnIaICs"
      }
    },
    {
      "cell_type": "code",
      "source": [
        "from sklearn.svm import SVC\n",
        "from sklearn.model_selection import train_test_split\n",
        "\n",
        "# Assuming X and y are your feature matrix and target variable\n",
        "\n",
        "# Initialize SVM classifier with a linear kernel\n",
        "svm = SVC(kernel='linear')\n",
        "\n",
        "# Fit the model on the entire dataset\n",
        "svm.fit(X, y)\n",
        "\n",
        "# Calculate training accuracy\n",
        "training_accuracy = svm.score(X, y) * 100\n",
        "print(\"Training Accuracy:\", training_accuracy)\n"
      ],
      "metadata": {
        "colab": {
          "base_uri": "https://localhost:8080/"
        },
        "id": "b6ajXKxHaCUW",
        "outputId": "b5b3c48b-4d26-4070-b5b5-d6287bf33bd3"
      },
      "execution_count": null,
      "outputs": [
        {
          "output_type": "stream",
          "name": "stdout",
          "text": [
            "Training Accuracy: 61.6519174041298\n"
          ]
        }
      ]
    },
    {
      "cell_type": "markdown",
      "source": [
        "***Make Bar Plot***"
      ],
      "metadata": {
        "id": "IssEz1GyBPvz"
      }
    },
    {
      "cell_type": "code",
      "source": [
        "scores = [knn_scores.mean(), nb_scores.mean(), svm_scores.mean()]\n",
        "models = ['KNN', 'Naive Bayes', 'SVM']\n",
        "# Plotting the bar graph\n",
        "plt.figure(figsize=(8, 6))\n",
        "plt.bar(models, scores, color=['blue', 'orange', 'green'])\n",
        "plt.xlabel('Models')\n",
        "plt.ylabel('Mean Accuracy')\n",
        "plt.title('Mean Accuracy of Different Models')\n",
        "plt.ylim(0, 1)\n",
        "plt.show()"
      ],
      "metadata": {
        "colab": {
          "base_uri": "https://localhost:8080/",
          "height": 564
        },
        "id": "jeAkChWXBSth",
        "outputId": "bf150e6a-629b-4ebc-f56b-fd46e2df6ae0"
      },
      "execution_count": null,
      "outputs": [
        {
          "output_type": "display_data",
          "data": {
            "text/plain": [
              "<Figure size 800x600 with 1 Axes>"
            ],
            "image/png": "[encoded data removed]"
          },
          "metadata": {}
        }
      ]
    },
    {
      "cell_type": "markdown",
      "source": [
        "**Conculsion**:\n",
        "\n",
        "With a mean accuracy of approximately **71.3%**, the **Naive Bayes model** outperforms both **KNN** and **SVM**. This suggests that **Naive Bayes** might be well-suited for this dataset and its classification task. The relatively higher accuracy implies that Naive Bayes is better at capturing patterns and making predictions compared to the other models used in this analysis.***Naive Bayes*** classifier seems to be a good model choice for this particular dataset."
      ],
      "metadata": {
        "id": "7FFnUM21D0r-"
      }
    }
  ]
}